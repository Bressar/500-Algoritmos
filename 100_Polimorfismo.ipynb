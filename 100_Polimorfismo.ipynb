{
 "cells": [
  {
   "cell_type": "markdown",
   "id": "ff33390b",
   "metadata": {},
   "source": [
    "Poliformismo"
   ]
  },
  {
   "cell_type": "code",
   "execution_count": 2,
   "id": "725e26de",
   "metadata": {},
   "outputs": [
    {
     "data": {
      "text/plain": [
       "2"
      ]
     },
     "execution_count": 2,
     "metadata": {},
     "output_type": "execute_result"
    }
   ],
   "source": [
    "# Exemplo básico, a função len, que reage de maneira diferente para cada tipo de dados\n",
    "\n",
    "len(\"uma string\")\n",
    "len(['uma', 'lista'])"
   ]
  },
  {
   "cell_type": "markdown",
   "id": "9ad51be1",
   "metadata": {},
   "source": [
    "Polimorfismo com Herança"
   ]
  },
  {
   "cell_type": "code",
   "execution_count": 10,
   "metadata": {},
   "outputs": [
    {
     "name": "stdout",
     "output_type": "stream",
     "text": [
      "Voando...\n",
      "Avestruz não voa!\n",
      "Avião também voa...\n",
      "Voando...\n",
      "Avestruz não voa!\n"
     ]
    }
   ],
   "source": [
    "class Passaro:\n",
    "    def voar(self):\n",
    "        print('Voando...')\n",
    "        \n",
    "class Pardal(Passaro):\n",
    "    def voar(self):\n",
    "        super().voar() # executa iguala classe Pai\n",
    "    \n",
    "class Avestruz(Passaro):\n",
    "    def voar(self):\n",
    "        print(\"Avestruz não voa!\") # executa um comando próprio\n",
    "\n",
    "\n",
    "# FIXME: exemplo ruim do uso de herança para 'ganhar' o método voar        \n",
    "class Aviao(Passaro):\n",
    "    def voar(self):\n",
    "        print('Avião também voa...')        \n",
    "        \n",
    "def plano_voo(objeto): # todo objeto é 'filho' da classe Passaro\n",
    "    objeto.voar()\n",
    "   \n",
    "       \n",
    "# executando a partir das classes\n",
    "plano_voo(Pardal())\n",
    "plano_voo(Avestruz())\n",
    "plano_voo(Aviao())\n",
    "\n",
    " \n",
    "    \n",
    "# usando com objetos  \n",
    "bird1 = Pardal()\n",
    "bird2 = Avestruz() \n",
    "\n",
    "# executa de acordo com o objeto que é inserido como objeto\n",
    "plano_voo(bird1)\n",
    "plano_voo(bird2)\n",
    "\n"
   ]
  }
 ],
 "metadata": {
  "kernelspec": {
   "display_name": "Python 3",
   "language": "python",
   "name": "python3"
  },
  "language_info": {
   "codemirror_mode": {
    "name": "ipython",
    "version": 3
   },
   "file_extension": ".py",
   "mimetype": "text/x-python",
   "name": "python",
   "nbconvert_exporter": "python",
   "pygments_lexer": "ipython3",
   "version": "3.12.1"
  }
 },
 "nbformat": 4,
 "nbformat_minor": 5
}

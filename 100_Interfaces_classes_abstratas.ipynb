{
 "cells": [
  {
   "cell_type": "markdown",
   "id": "5e9059f8",
   "metadata": {},
   "source": [
    "Variáveis de Classes e de Instância"
   ]
  },
  {
   "cell_type": "code",
   "execution_count": null,
   "id": "2d332109",
   "metadata": {},
   "outputs": [
    {
     "name": "stdout",
     "output_type": "stream",
     "text": [
      "Creuza - 9911 - Amorim\n",
      "Joilson - 6622 - Amorim\n",
      "Creuza - 9911 - Escola Antonio Juvenal - entra burro sai animal\n",
      "Joilson - 1111 - Escola Antonio Juvenal - entra burro sai animal\n",
      "Joseverson - 2424 - Escola Antonio Juvenal - entra burro sai animal\n"
     ]
    }
   ],
   "source": [
    "class Estudante:\n",
    "    escola = 'Amorim' # atributo de classe\n",
    "    \n",
    "    def __init__(self, nome, matricula):\n",
    "        self.nome = nome # atributo de instância\n",
    "        self.matricula = matricula # atributo de instância, usa o 'self'\n",
    "    \n",
    "    def __str__(self):\n",
    "        return f\"{self.nome} - {self.matricula} - {self.escola}\"\n",
    "    \n",
    "    \n",
    "def mostrar_valores(*objs):\n",
    "    for obj in objs:\n",
    "        print(obj)    \n",
    "    \n",
    "aluna = Estudante(\"Creuza\", 9911)\n",
    "aluno = Estudante(\"Joilson\", 6622)\n",
    "mostrar_valores(aluna, aluno)\n",
    "\n",
    "aluno.matricula = 1111\n",
    "Estudante.escola = \"Escola Antonio Juvenal - entra burro sai animal\"\n",
    "alune = Estudante(\"Joseverson\", 2424)\n",
    "mostrar_valores(aluna, aluno, alune)\n",
    "\n",
    "    "
   ]
  },
  {
   "cell_type": "markdown",
   "id": "e96fd157",
   "metadata": {},
   "source": [
    "Métodos de Classe e Métodos estáticos"
   ]
  },
  {
   "cell_type": "code",
   "execution_count": null,
   "id": "62f0f2dc",
   "metadata": {},
   "outputs": [
    {
     "name": "stdout",
     "output_type": "stream",
     "text": [
      "Marinete 115\n",
      "True\n",
      "False\n"
     ]
    }
   ],
   "source": [
    "class Pessoa:\n",
    "    def __init__(self, nome, idade):\n",
    "        self.nome = nome\n",
    "        self.idade = idade\n",
    "        \n",
    "    # método e fábrica\n",
    "    @classmethod # método de classe\n",
    "    def criar_de_data_nascimento(cls, ano, mes, dia, nome): # Usa cls ao invés de self\n",
    "        idade = 2025 - ano\n",
    "        return Pessoa(nome, idade)\n",
    "        \n",
    "        \n",
    "    @staticmethod # método estático\n",
    "    def e_maior_idade(idade): # não precisa da instância 'self'\n",
    "        return idade >= 18    \n",
    " \n",
    "        \n",
    "\"\"\" p = Pessoa(\"Osnézia\", 102)        \n",
    "print(p.nome, p.idade)   \"\"\"    \n",
    "        \n",
    "p = Pessoa.criar_de_data_nascimento(1910, 3, 12, 'Marinete')\n",
    "print(p.nome, p.idade)    \n",
    "\n",
    "print(Pessoa.e_maior_idade(108))\n",
    "print(Pessoa.e_maior_idade(9))    \n",
    "        \n",
    "        \n",
    "        \n",
    "        \n",
    "        "
   ]
  },
  {
   "cell_type": "markdown",
   "id": "b4d04387",
   "metadata": {},
   "source": [
    "Interfaces e Classes Abstratas - ABC @abstractmethod"
   ]
  },
  {
   "cell_type": "code",
   "execution_count": 21,
   "id": "906e2692",
   "metadata": {},
   "outputs": [
    {
     "name": "stdout",
     "output_type": "stream",
     "text": [
      "Ligando a TV...\n",
      "TV Ligada!\n",
      "Desligando a TV...\n",
      "TV Desligada!\n",
      "Sanyo\n",
      "Ligando o Ar condicionado...\n",
      "Ligado!\n",
      "Desligando o Ar condicionado...\n",
      "Desligado!\n",
      "LG\n"
     ]
    }
   ],
   "source": [
    "from abc import ABC, abstractmethod, abstractproperty\n",
    "\n",
    "class ControleRemoto(ABC):\n",
    "    @abstractmethod\n",
    "    def ligar(self): # contrato, não recebe nenhum argumento\n",
    "        pass\n",
    "    \n",
    "    @abstractmethod\n",
    "    def desligar(self):\n",
    "        pass\n",
    "    \n",
    "    @property\n",
    "    @abstractproperty # propriedade\n",
    "    def marca(self):\n",
    "        pass\n",
    "    \n",
    "    \n",
    "class ControleTV(ControleRemoto):\n",
    "    def ligar(self):\n",
    "        print('Ligando a TV...\\nTV Ligada!') # por herdar de uma classe abstrata, todos os metodos da classe abastrata devem existir e ser implementados\n",
    "        \n",
    "    def desligar(self):\n",
    "        print('Desligando a TV...\\nTV Desligada!')\n",
    "    \n",
    "    @property   # precisa definir na classe como uma propriedade\n",
    "    def marca(self):\n",
    "        return 'Sanyo'\n",
    "        \n",
    "        \n",
    "class ControleArCondicionado(ControleRemoto):\n",
    "    def ligar(self):\n",
    "          print('Ligando o Ar condicionado...\\nLigado!') \n",
    "          \n",
    "    def desligar(self):\n",
    "        print('Desligando o Ar condicionado...\\nDesligado!')\n",
    "        \n",
    "    @property   \n",
    "    def marca(self):\n",
    "        return 'LG'\n",
    "               \n",
    "# Quando  a classe filha herda de um método abstrato ela é obrigada a implemnetar os métodos dessa classe abstrata        \n",
    "\n",
    "\n",
    "controle = ControleTV()\n",
    "controle.ligar()\n",
    "controle.desligar()\n",
    "print(controle.marca)\n",
    "\n",
    "controle = ControleArCondicionado()\n",
    "controle.ligar()\n",
    "controle.desligar()\n",
    "print(controle.marca)\n",
    "\n",
    "\n"
   ]
  }
 ],
 "metadata": {
  "kernelspec": {
   "display_name": "Python 3",
   "language": "python",
   "name": "python3"
  },
  "language_info": {
   "codemirror_mode": {
    "name": "ipython",
    "version": 3
   },
   "file_extension": ".py",
   "mimetype": "text/x-python",
   "name": "python",
   "nbconvert_exporter": "python",
   "pygments_lexer": "ipython3",
   "version": "3.12.1"
  }
 },
 "nbformat": 4,
 "nbformat_minor": 5
}

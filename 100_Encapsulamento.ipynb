{
 "cells": [
  {
   "cell_type": "markdown",
   "id": "33dd09c6",
   "metadata": {},
   "source": [
    "# <h1>Encapsulamento<h>\n",
    " # em python o encapsulaemnto é só pra inglês ver, não tem protect, private e public como no Java"
   ]
  },
  {
   "cell_type": "code",
   "execution_count": 7,
   "id": "f8667624",
   "metadata": {},
   "outputs": [
    {
     "name": "stdout",
     "output_type": "stream",
     "text": [
      "200\n",
      "0001\n",
      "Saldo: 250\n"
     ]
    }
   ],
   "source": [
    "class Conta:\n",
    "    def __init__(self, nro_agencia, saldo=0):\n",
    "        self._saldo = saldo # 'private'\n",
    "        self.nro_agencia = nro_agencia # public\n",
    "\n",
    "    def depositar(self, valor):\n",
    "        # ...\n",
    "        self._saldo += valor\n",
    "\n",
    "    def sacar(self, valor):\n",
    "        # ...\n",
    "        self._saldo -= valor\n",
    "        \n",
    "    def mostrar_saldo(self):\n",
    "        # ...\n",
    "        return f'Saldo: {self._saldo}' \n",
    "\n",
    "conta = Conta(\"0001\", 100)\n",
    "conta._saldo += 100 # ERRADO! driblando o encapsulamento\n",
    "print(conta._saldo) # uso errado por convenção, mas imprime assim mesmo\n",
    "\n",
    "# O correto seria usar as funções\n",
    "conta.depositar(100)\n",
    "conta.sacar(50)\n",
    "print(conta.nro_agencia)\n",
    "print(conta.mostrar_saldo() ) # jeito correto\n",
    "\n",
    "\n"
   ]
  },
  {
   "cell_type": "markdown",
   "id": "21214708",
   "metadata": {},
   "source": [
    "Propriedades - properties - decoradores"
   ]
  },
  {
   "cell_type": "code",
   "execution_count": null,
   "id": "d756e639",
   "metadata": {},
   "outputs": [],
   "source": [
    "class Foo:\n",
    "    def __init__(self, x=None):\n",
    "        self._x = x\n",
    "        \n",
    "    @property # -> igual ao getter do Java, busca a variavel privada [self._x] da classe Foo\n",
    "    def x(self):\n",
    "        return self.x or 0\n",
    "    \n",
    "    @x.setter # -> igual ao getter do Java, busca a variavel privada [self._x] da classe Foo\n",
    "    def x(self, value):\n",
    "        _x = self._x or 0\n",
    "        _value = value or 0\n",
    "        self._x = _x + _value\n",
    "        \n",
    "    @x.deleter\n",
    "    def x(self):\n",
    "        self._x = -1\n",
    "        \n",
    "foo = Foo(10) # x definido como 10\n",
    "print(foo.x)\n",
    "foo.x = 10 # adicionando + 10 a x\n",
    "print(foo.x)\n",
    "del foo.x\n",
    "print(foo.x)\n",
    "\n",
    "\n",
    "\n",
    "        \n",
    "            "
   ]
  }
 ],
 "metadata": {
  "kernelspec": {
   "display_name": ".venv",
   "language": "python",
   "name": "python3"
  },
  "language_info": {
   "codemirror_mode": {
    "name": "ipython",
    "version": 3
   },
   "file_extension": ".py",
   "mimetype": "text/x-python",
   "name": "python",
   "nbconvert_exporter": "python",
   "pygments_lexer": "ipython3",
   "version": "3.13.2"
  }
 },
 "nbformat": 4,
 "nbformat_minor": 5
}

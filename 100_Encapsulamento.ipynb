{
 "cells": [
  {
   "cell_type": "markdown",
   "id": "33dd09c6",
   "metadata": {},
   "source": [
    "# <h1>Encapsulamento<h>\n",
    " # em python o encapsulaemnto é só pra inglês ver, não tem protect, private e public como no Java"
   ]
  },
  {
   "cell_type": "code",
   "execution_count": 7,
   "id": "f8667624",
   "metadata": {},
   "outputs": [
    {
     "name": "stdout",
     "output_type": "stream",
     "text": [
      "200\n",
      "0001\n",
      "Saldo: 250\n"
     ]
    }
   ],
   "source": [
    "class Conta:\n",
    "    def __init__(self, nro_agencia, saldo=0):\n",
    "        self._saldo = saldo # 'private'\n",
    "        self.nro_agencia = nro_agencia # public\n",
    "\n",
    "    def depositar(self, valor):\n",
    "        # ...\n",
    "        self._saldo += valor\n",
    "\n",
    "    def sacar(self, valor):\n",
    "        # ...\n",
    "        self._saldo -= valor\n",
    "        \n",
    "    def mostrar_saldo(self):\n",
    "        # ...\n",
    "        return f'Saldo: {self._saldo}' \n",
    "\n",
    "conta = Conta(\"0001\", 100)\n",
    "conta._saldo += 100 # ERRADO! driblando o encapsulamento\n",
    "print(conta._saldo) # uso errado por convenção, mas imprime assim mesmo\n",
    "\n",
    "# O correto seria usar as funções\n",
    "conta.depositar(100)\n",
    "conta.sacar(50)\n",
    "print(conta.nro_agencia)\n",
    "print(conta.mostrar_saldo() ) # jeito correto\n",
    "\n",
    "\n"
   ]
  },
  {
   "cell_type": "markdown",
   "id": "21214708",
   "metadata": {},
   "source": [
    "Propriedades - properties - decoradores"
   ]
  },
  {
   "cell_type": "code",
   "execution_count": null,
   "id": "d756e639",
   "metadata": {},
   "outputs": [
    {
     "name": "stdout",
     "output_type": "stream",
     "text": [
      "0\n",
      "10\n"
     ]
    },
    {
     "data": {
      "text/plain": [
       "'         _x = self._x or 0\\n_value = value or 0\\nself._x = _x + _value '"
      ]
     },
     "execution_count": 17,
     "metadata": {},
     "output_type": "execute_result"
    }
   ],
   "source": [
    "class Foo:\n",
    "    def __init__(self, x=None):\n",
    "        self._x = x\n",
    "    \n",
    "    \n",
    "    # decorador transforma o metodo em propriedade  \n",
    "    @property # -> igual ao getter do Java, busca a variavel privada [self._x] da classe Foo\n",
    "    def x(self):\n",
    "        return self._x or 0\n",
    "    \n",
    "    \n",
    " # decorador transforma o metodo em propriedade  \n",
    "    @x.setter # -> igual ao setter do Java, \n",
    "    def x(self, value):\n",
    "        self._x += value\n",
    "        \n",
    "    \n",
    "     # decorador transforma o metodo em propriedade      \n",
    "    @x.deleter\n",
    "    def x(self):\n",
    "        self._x = 0 \n",
    "        #del self._x\n",
    "        #self._x = -1 \n",
    "        \n",
    "        \n",
    "        \n",
    "foo = Foo(10) # 'propertie' x definido como 10\n",
    "print(foo.x)\n",
    "del foo.x # exclui o valor e atribui 0\n",
    "print(foo.x)\n",
    "foo.x = 10 # 'Setter' adicionando + 10 a x\n",
    "print(foo.x)\n",
    "\n",
    "\n",
    "\n",
    "\"\"\"         _x = self._x or 0\n",
    "_value = value or 0\n",
    "self._x = _x + _value \"\"\"\n",
    "        \n",
    "            "
   ]
  },
  {
   "cell_type": "markdown",
   "id": "3e47d57a",
   "metadata": {},
   "source": [
    "Propriedades"
   ]
  },
  {
   "cell_type": "code",
   "execution_count": 1,
   "id": "ee4b92f6",
   "metadata": {},
   "outputs": [
    {
     "name": "stdout",
     "output_type": "stream",
     "text": [
      "Nome: Lucas\tIdade: 14\n",
      "Nome: Felipe\tIdade: 14\n"
     ]
    }
   ],
   "source": [
    "class Pessoa:\n",
    "    def __init__(self, nome, ano_nascimento):\n",
    "        self._nome = nome\n",
    "        self._ano_nascimento =  ano_nascimento\n",
    "        \n",
    "    @property # não tem keyword para encapsulamento, são convenções! mas o inidicado é usar assim\n",
    "    def nome(self):\n",
    "        return self._nome\n",
    "    \n",
    "    @property \n",
    "    def idade(self):\n",
    "        _ano_atual = 2025\n",
    "        return _ano_atual - self._ano_nascimento\n",
    "    \n",
    "    \n",
    "    \n",
    "    def get_nome(self): # versão 'copiando ' Java, tb funciiona, mas não é indicado\n",
    "        return self._nome\n",
    "    \n",
    "    def get_idade(self):\n",
    "        return 2025 - self._ano_nascimento\n",
    "    \n",
    "    \n",
    "    \n",
    "pessoa1 = Pessoa(\"Lucas\", 2011)\n",
    "print(f'Nome: {pessoa1.nome}\\tIdade: {pessoa1.idade}')\n",
    "\n",
    "pessoa2 = Pessoa(\"Felipe\", 2011)\n",
    "print(f'Nome: {pessoa2.get_nome()}\\tIdade: {pessoa2.get_idade()}')\n",
    "\n",
    "\n",
    "\n",
    "    "
   ]
  }
 ],
 "metadata": {
  "kernelspec": {
   "display_name": ".venv",
   "language": "python",
   "name": "python3"
  },
  "language_info": {
   "codemirror_mode": {
    "name": "ipython",
    "version": 3
   },
   "file_extension": ".py",
   "mimetype": "text/x-python",
   "name": "python",
   "nbconvert_exporter": "python",
   "pygments_lexer": "ipython3",
   "version": "3.13.3"
  }
 },
 "nbformat": 4,
 "nbformat_minor": 5
}

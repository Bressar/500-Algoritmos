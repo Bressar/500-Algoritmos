{
 "cells": [
  {
   "cell_type": "code",
   "execution_count": null,
   "metadata": {},
   "outputs": [],
   "source": [
    "## Algoritmo 003\n",
    "\n",
    "lampada = str(input(\"A lâmpada está fora do alcance? [S] ou [N]? \")).strip()\n",
    "if lampada in \"Ss\":\n",
    "    print(\"Pegar a escada\")\n",
    "else:\n",
    "    print(\"Pegar a lâmpada\")\n",
    "quente = str(input(\"A lâmpada está quente? [S] ou [N]? \")).strip()\n",
    "if quente in \"Ss\":\n",
    "    print(\"Pegar pano e tirar a lâmpada queimada\")\n",
    "else:\n",
    "    print(\"Tirar lâmpada queimada\")\n",
    "    \n",
    "print(\"Colocar lâmpada boa.\")\n"
   ]
  }
 ],
 "metadata": {
  "language_info": {
   "name": "python"
  }
 },
 "nbformat": 4,
 "nbformat_minor": 2
}

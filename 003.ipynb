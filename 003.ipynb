{
 "cells": [
  {
   "cell_type": "code",
   "execution_count": 1,
   "metadata": {},
   "outputs": [],
   "source": [
    "## Algoritmo 003\n",
    "# Trocar lâmpada\n",
    "\n",
    "lampada = str(input(\"A lâmpada está fora do alcance? [S] ou [N]? \")).strip()\n",
    "if lampada in \"Ss\":\n",
    "    print(\"Pegar a escada\")\n",
    "else:\n",
    "    print(\"Pegar a lâmpada\")\n",
    "quente = str(input(\"A lâmpada está quente? [S] ou [N]? \")).strip()\n",
    "if quente in \"Ss\":\n",
    "    print(\"Pegar pano e tirar a lâmpada queimada\")\n",
    "else:\n",
    "    print(\"Tirar lâmpada queimada\")\n",
    "    \n",
    "print(\"Colocar lâmpada boa.\")\n"
   ]
  }
 ],
 "metadata": {
  "kernelspec": {
   "display_name": "Python 3",
   "language": "python",
   "name": "python3"
  },
  "language_info": {
   "codemirror_mode": {
    "name": "ipython",
    "version": 3
   },
   "file_extension": ".py",
   "mimetype": "text/x-python",
   "name": "python",
   "nbconvert_exporter": "python",
   "pygments_lexer": "ipython3",
   "version": "3.12.1"
  }
 },
 "nbformat": 4,
 "nbformat_minor": 2
}

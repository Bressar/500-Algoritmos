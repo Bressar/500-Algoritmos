{
 "cells": [
  {
   "cell_type": "code",
   "execution_count": 3,
   "metadata": {},
   "outputs": [],
   "source": [
    "## Algoritmo 002\n",
    "# Mascar chiclete\n",
    "\n",
    "chiclete = str(input(\"tem um chiclete?[S] ou [N]\")).upper().strip()\n",
    "if chiclete == \"S\":\n",
    "    while True:\n",
    "        resposta = str(input(\"tirou o papel? [S] ou [N]\")).upper().strip()\n",
    "        if resposta == \"S\":\n",
    "            print(\"Mastigar e jogar o papel no lixo\")\n",
    "            break\n",
    "        else:\n",
    "            print(\"Tire o papel!\")\n",
    "else:\n",
    "    print(\"Pegue um chiclete\")\n",
    "    "
   ]
  }
 ],
 "metadata": {
  "kernelspec": {
   "display_name": "Python 3",
   "language": "python",
   "name": "python3"
  },
  "language_info": {
   "codemirror_mode": {
    "name": "ipython",
    "version": 3
   },
   "file_extension": ".py",
   "mimetype": "text/x-python",
   "name": "python",
   "nbconvert_exporter": "python",
   "pygments_lexer": "ipython3",
   "version": "3.11.5"
  }
 },
 "nbformat": 4,
 "nbformat_minor": 2
}

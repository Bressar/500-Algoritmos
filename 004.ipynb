{
 "cells": [
  {
   "cell_type": "code",
   "execution_count": null,
   "metadata": {},
   "outputs": [],
   "source": [
    "## Algoritmo 004\n",
    "# Fim de semana\n",
    "\n",
    "def fim_de_semana(previsao='sol'):\n",
    "    if previsao != 'sol':\n",
    "        print('Almoçar\\nVer TV\\nDormir')\n",
    "    else:\n",
    "        print('Vou à praia')\n",
    "        \n",
    "fim_de_semana('chuva')\n",
    "print('ou')\n",
    "fim_de_semana()\n"
   ]
  }
 ],
 "metadata": {
  "language_info": {
   "name": "python"
  }
 },
 "nbformat": 4,
 "nbformat_minor": 2
}

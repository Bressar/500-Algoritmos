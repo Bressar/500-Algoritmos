{
 "cells": [
  {
   "cell_type": "code",
   "execution_count": 10,
   "metadata": {},
   "outputs": [
    {
     "name": "stdout",
     "output_type": "stream",
     "text": [
      "colocar óleo na frigideira\n",
      "Acender o fogo\n",
      "Colocar o ovo\n",
      "coloque o sal\n",
      "retirar quando pronto\n",
      "\n",
      "Pegar frigideira, ovo, óleo e sal\n"
     ]
    }
   ],
   "source": [
    "## Algoritmo 001\n",
    "\n",
    "fogo = False\n",
    "recomecar = False\n",
    "frigideira = False\n",
    "ovo = False\n",
    "oleo = False\n",
    "sal = False\n",
    "\n",
    "def fritar_ovo(frigideira=False, ovo=False, oleo=False, sal=False, fogo=False):\n",
    "    global recomecar\n",
    "    while recomecar == False:\n",
    "        if frigideira == False and ovo == False and oleo == False and sal == False:\n",
    "            print(\"Pegar frigideira, ovo, óleo e sal\")\n",
    "            recomecar = True\n",
    "        else:\n",
    "            recomecar = False\n",
    "            if frigideira == True:\n",
    "                print('colocar óleo na frigideira')\n",
    "            else:\n",
    "                print('frigideira sem óleo, recomece')\n",
    "                recomecar = True\n",
    "            if oleo == True:\n",
    "                print(\"Acender o fogo\")\n",
    "            else:\n",
    "                print('fogo apagado, recomece')\n",
    "                recomecar = True    \n",
    "            if fogo == True:\n",
    "                print(\"Esperar o óleo esquentar\")\n",
    "            elif ovo == True:\n",
    "                print(\"Colocar o ovo\")           \n",
    "            else:\n",
    "                print('falta o ovo, recomece')\n",
    "                recomecar = True  \n",
    "            if sal == True:\n",
    "                print(\"coloque o sal\")\n",
    "            else:\n",
    "                print(\"acabou o sal, recomece\")\n",
    "            print(\"retirar quando pronto\")\n",
    "            break\n",
    "        \n",
    "fritar_ovo(True, True, True, True)\n",
    "print()\n",
    "fritar_ovo()\n",
    "  "
   ]
  },
  {
   "cell_type": "code",
   "execution_count": null,
   "metadata": {},
   "outputs": [],
   "source": []
  }
 ],
 "metadata": {
  "kernelspec": {
   "display_name": "Python 3",
   "language": "python",
   "name": "python3"
  },
  "language_info": {
   "codemirror_mode": {
    "name": "ipython",
    "version": 3
   },
   "file_extension": ".py",
   "mimetype": "text/x-python",
   "name": "python",
   "nbconvert_exporter": "python",
   "pygments_lexer": "ipython3",
   "version": "3.11.5"
  }
 },
 "nbformat": 4,
 "nbformat_minor": 2
}

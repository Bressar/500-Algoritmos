{
 "cells": [
  {
   "cell_type": "markdown",
   "id": "ff5e720e",
   "metadata": {},
   "source": [
    "# Revisão de POO \n",
    "# Herança"
   ]
  },
  {
   "cell_type": "code",
   "execution_count": 1,
   "id": "6e07bfcf",
   "metadata": {},
   "outputs": [],
   "source": [
    "class A:\n",
    "    pass\n",
    "\n",
    "class B:\n",
    "    pass\n",
    "\n",
    "class C (A,B):\n",
    "    pass\n",
    "\n",
    "\n"
   ]
  },
  {
   "cell_type": "code",
   "execution_count": 20,
   "id": "e22b557b",
   "metadata": {},
   "outputs": [
    {
     "name": "stdout",
     "output_type": "stream",
     "text": [
      "Moto: cor=azul, placa=fao-5456, numero_rodas=2\n",
      "azul\n",
      "Ligando o motor\n",
      "Carro: cor=Branco, placa=cee-1234, numero_rodas=4\n",
      "Ligando o motor\n",
      "Camiao: cor=Roxo, placa=xpto-2367, numero_rodas=8, carregado=False\n",
      "Ligando o motor\n",
      "Não estou carregado\n",
      "xpto-2367\n"
     ]
    }
   ],
   "source": [
    "class Veiculo:\n",
    "    def __init__(self, cor, placa, numero_rodas):\n",
    "        self.cor = cor\n",
    "        self.placa = placa\n",
    "        self.numero_rodas = numero_rodas\n",
    "        \n",
    "    def __str__(self):\n",
    "        return f\"{self.__class__.__name__}: {', ' .join([f'{chave}={valor}' for chave, valor in self.__dict__.items()])}\"\n",
    "\n",
    "    def ligar_motor(self):\n",
    "        print(\"Ligando o motor\")\n",
    "\n",
    "class Moto(Veiculo):\n",
    "    pass\n",
    "\n",
    "class Carro(Veiculo):\n",
    "    pass\n",
    "\n",
    "class Camiao(Veiculo):\n",
    "    def __init__(self, cor, placa, numero_rodas, carregado):\n",
    "        super().__init__(cor, placa, numero_rodas)\n",
    "        \n",
    "        self.carregado = carregado\n",
    "    \n",
    "    def esta_carregado(self):\n",
    "        print(f\"{'Sim' if self.carregado else 'Não'} estou carregado\")\n",
    "\n",
    "moto = Moto(\"azul\", \"fao-5456\", 2)\n",
    "\n",
    "print(moto)\n",
    "print(moto.cor)\n",
    "moto.ligar_motor()\n",
    "\n",
    "carro = Carro(\"Branco\", \"cee-1234\", 4)\n",
    "print(carro)\n",
    "carro.ligar_motor()\n",
    "\n",
    "caminhao = Camiao(\"Roxo\", \"xpto-2367\", 8, False)\n",
    "print(caminhao)\n",
    "caminhao.ligar_motor()\n",
    "caminhao.esta_carregado()\n",
    "print(caminhao.placa)\n"
   ]
  },
  {
   "cell_type": "markdown",
   "id": "28613233",
   "metadata": {},
   "source": [
    "# Herança Múltipla"
   ]
  },
  {
   "cell_type": "code",
   "execution_count": null,
   "id": "7cf9f3a0",
   "metadata": {},
   "outputs": [
    {
     "name": "stdout",
     "output_type": "stream",
     "text": [
      "[<class '__main__.Ornitorrinco'>, <class '__main__.Mamifero'>, <class '__main__.Ave'>, <class '__main__.Animal'>, <class 'object'>]\n",
      "Ornitorrinco\n"
     ]
    }
   ],
   "source": [
    "class Animal:\n",
    "    def __init__(self, nro_patas):\n",
    "        self.nro_patas = nro_patas\n",
    "        \n",
    "    def __str__(self):\n",
    "        return f\"{self.__class__.__name__}: {', ' .join([f'{chave}={valor}' for chave, valor in self.__dict__.items()])}\"\n",
    "\n",
    "\n",
    "class Ave(Animal):\n",
    "    def __init__(self, cor_bico, **kw):# Usando **kw para pegar todos os argumentos das outras classes\n",
    "        self.cor_bico = cor_bico\n",
    "        super().__init__(**kw)\n",
    "        \n",
    "    def __str__(self):\n",
    "         return \"Ave\"   \n",
    "\n",
    "\n",
    "class Mamifero(Animal):\n",
    "    def __init__(self, cor_pelo, **kw): # recebe parâmetro de chave:valor\n",
    "        self.cor_pelo = cor_pelo\n",
    "        super().__init__(**kw)\n",
    "        \n",
    "    def __str__(self):\n",
    "        return 'Mamífero'\n",
    "        # return self.__class__.__name__ # Ornitorrinco\n",
    "\n",
    "\n",
    "class Cachorro(Mamifero):\n",
    "    pass\n",
    "\n",
    "class Gato(Mamifero):\n",
    "    pass\n",
    "\n",
    "class Leao(Mamifero):\n",
    "    pass\n",
    "\n",
    "\n",
    "class Ornitorrinco(Mamifero, Ave): # reconhece a hierarquia da esquerda para a direita\n",
    "    def __init__(self, cor_bico, cor_pelo, nro_patas):\n",
    "        \n",
    "        print(Ornitorrinco.mro()) # Duas maneiras de usar o MRO\n",
    "        #print(Ornitorrinco.__mro__) # mostra o caminho da hierarquia de classes e dos metodos a serem usados\n",
    "        \n",
    "        super().__init__(cor_pelo=cor_pelo, cor_bico=cor_bico, nro_patas=nro_patas)\n",
    "\n",
    "    def __str__(self):\n",
    "        return 'Ornitorrinco'\n",
    "\n",
    "gato1 = Gato(nro_patas=4, cor_pelo='black')\n",
    "# print(gato1)\n",
    "\n",
    "ornitorrinco = Ornitorrinco(nro_patas=4, cor_pelo=\"red\", cor_bico=\"laranja\")\n",
    "print(ornitorrinco)\n",
    "    "
   ]
  },
  {
   "cell_type": "markdown",
   "id": "0a851d41",
   "metadata": {},
   "source": [
    "# Mixin"
   ]
  },
  {
   "cell_type": "code",
   "execution_count": 1,
   "id": "070e8e2c",
   "metadata": {},
   "outputs": [
    {
     "name": "stdout",
     "output_type": "stream",
     "text": [
      "[<class '__main__.Ornitorrinco'>, <class '__main__.Mamifero'>, <class '__main__.Ave'>, <class '__main__.Animal'>, <class '__main__.FalarMixin'>, <class 'object'>]\n",
      "Ornitorrinco: cor_pelo=red, cor_bico=laranja, nro_patas=4\n",
      "Are you talking to me?\n"
     ]
    }
   ],
   "source": [
    "class Animal:\n",
    "    def __init__(self, nro_patas):\n",
    "        self.nro_patas = nro_patas\n",
    "        \n",
    "    def __str__(self):\n",
    "        return f\"{self.__class__.__name__}: {', ' .join([f'{chave}={valor}' for chave, valor in self.__dict__.items()])}\"\n",
    "\n",
    "\n",
    "class Ave(Animal):\n",
    "    def __init__(self, cor_bico, **kw):# Usando **kw para pegar todos os argumentos das outras classes\n",
    "        self.cor_bico = cor_bico\n",
    "        super().__init__(**kw)\n",
    "        \n",
    " \n",
    "\n",
    "class Mamifero(Animal):\n",
    "    def __init__(self, cor_pelo, **kw): # recebe parâmetro de chave:valor\n",
    "        self.cor_pelo = cor_pelo\n",
    "        super().__init__(**kw)\n",
    "        \n",
    "\n",
    "\n",
    "class Cachorro(Mamifero):\n",
    "    pass\n",
    "\n",
    "class Gato(Mamifero):\n",
    "    pass\n",
    "\n",
    "class Leao(Mamifero):\n",
    "    pass\n",
    "\n",
    "\n",
    "class FalarMixin: # Conceito muito usado no Django\n",
    "      def falar(self):\n",
    "          return \"Are you talking to me?\"\n",
    "    \n",
    "    \n",
    "class Ornitorrinco(Mamifero, Ave, FalarMixin): # reconhece a hierarquia da esquerda para a direita\n",
    "    def __init__(self, cor_bico, cor_pelo, nro_patas):\n",
    "        \n",
    "        print(Ornitorrinco.mro()) # Duas maneiras de usar o MRO\n",
    "        #print(Ornitorrinco.__mro__) # mostra o caminho da hierarquia de classes e dos metodos a serem usados\n",
    "        \n",
    "        super().__init__(cor_pelo=cor_pelo, cor_bico=cor_bico, nro_patas=nro_patas)\n",
    "\n",
    "\n",
    "\n",
    "gato1 = Gato(nro_patas=4, cor_pelo='black')\n",
    "# print(gato1)\n",
    "\n",
    "ornitorrinco = Ornitorrinco(nro_patas=4, cor_pelo=\"red\", cor_bico=\"laranja\")\n",
    "print(ornitorrinco)\n",
    "print(ornitorrinco.falar()) # usando a função falar da classe FalarMixin\n",
    "    "
   ]
  },
  {
   "cell_type": "code",
   "execution_count": 3,
   "id": "dd0ee0a3",
   "metadata": {},
   "outputs": [
    {
     "name": "stdout",
     "output_type": "stream",
     "text": [
      "[<class '__main__.Bar'>, <class '__main__.Foo'>, <class 'object'>]\n",
      "bar\n"
     ]
    }
   ],
   "source": [
    "class Foo:\n",
    "    def hello(self):\n",
    "        print(self.__class__.__name__.lower())\n",
    "\n",
    "class Bar(Foo):\n",
    "    def hello(self):\n",
    "        print(Bar.mro())\n",
    "        return super().hello()\n",
    "\n",
    "bar = Bar()\n",
    "bar.hello()"
   ]
  }
 ],
 "metadata": {
  "kernelspec": {
   "display_name": "Python 3",
   "language": "python",
   "name": "python3"
  },
  "language_info": {
   "codemirror_mode": {
    "name": "ipython",
    "version": 3
   },
   "file_extension": ".py",
   "mimetype": "text/x-python",
   "name": "python",
   "nbconvert_exporter": "python",
   "pygments_lexer": "ipython3",
   "version": "3.12.1"
  }
 },
 "nbformat": 4,
 "nbformat_minor": 5
}
